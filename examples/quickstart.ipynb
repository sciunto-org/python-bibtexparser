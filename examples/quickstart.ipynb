{
 "cells": [
  {
   "cell_type": "code",
   "execution_count": 1,
   "outputs": [],
   "source": [
    "import bibtexparser"
   ],
   "metadata": {
    "collapsed": false,
    "ExecuteTime": {
     "end_time": "2023-05-09T19:53:10.182974919Z",
     "start_time": "2023-05-09T19:53:10.151312003Z"
    }
   }
  },
  {
   "cell_type": "markdown",
   "source": [
    "For reference, in this tutorial we will parse the following bibtex string:"
   ],
   "metadata": {
    "collapsed": false
   }
  },
  {
   "cell_type": "markdown",
   "source": [],
   "metadata": {
    "collapsed": false
   }
  },
  {
   "cell_type": "code",
   "execution_count": 2,
   "outputs": [],
   "source": [
    "bibtex_str = \"\"\"\n",
    "@comment{\n",
    "    This is my example comment.\n",
    "}\n",
    "\n",
    "@ARTICLE{Cesar2013,\n",
    "  author = {Jean César},\n",
    "  title = {An amazing title},\n",
    "  year = {2013},\n",
    "  volume = {12},\n",
    "  pages = {12--23},\n",
    "  journal = {Nice Journal}\n",
    "}\n",
    "\"\"\""
   ],
   "metadata": {
    "collapsed": false,
    "ExecuteTime": {
     "end_time": "2023-05-09T19:53:10.198811536Z",
     "start_time": "2023-05-09T19:53:10.190859223Z"
    }
   }
  },
  {
   "cell_type": "markdown",
   "source": [
    "Parsing  bibtex file or string using default middleware/configuration is just a single line of code:"
   ],
   "metadata": {
    "collapsed": false
   }
  },
  {
   "cell_type": "code",
   "execution_count": 3,
   "outputs": [],
   "source": [
    "library = bibtexparser.parse_string(bibtex_str) # or bibtexparser.parse_file(\"my_file.bib\")"
   ],
   "metadata": {
    "collapsed": false,
    "ExecuteTime": {
     "end_time": "2023-05-09T19:53:10.231904216Z",
     "start_time": "2023-05-09T19:53:10.207279364Z"
    }
   }
  },
  {
   "cell_type": "markdown",
   "source": [
    "The returned `library` object provides access to the parsed blocks, i.e., parsed high-level segments of the bibtex such as entries, comments, strings and preambles.\n",
    "You can access them by type, or iterate over all blocks, as shown below"
   ],
   "metadata": {
    "collapsed": false
   }
  },
  {
   "cell_type": "code",
   "execution_count": 4,
   "outputs": [
    {
     "name": "stdout",
     "output_type": "stream",
     "text": [
      "Parsed 2 blocks, including:\n",
      "\t1 entries\n",
      "\t1 comments\n",
      "\t0 strings and\n",
      "\t0 preambles\n"
     ]
    }
   ],
   "source": [
    "print(f\"Parsed {len(library.blocks)} blocks, including:\"\n",
    "      f\"\\n\\t{len(library.entries)} entries\"\n",
    "        f\"\\n\\t{len(library.comments)} comments\"\n",
    "        f\"\\n\\t{len(library.strings)} strings and\"\n",
    "        f\"\\n\\t{len(library.preambles)} preambles\")"
   ],
   "metadata": {
    "collapsed": false,
    "ExecuteTime": {
     "end_time": "2023-05-09T19:53:10.275696001Z",
     "start_time": "2023-05-09T19:53:10.229832472Z"
    }
   }
  },
  {
   "cell_type": "markdown",
   "source": [
    "As you can see, the parsed blocks are represented as dedicated object types (entries, strings, preambles and comments).\n",
    "They share some supertype attributes (e.g. they provide access to their raw bibtex representation and their start line in the file),\n",
    "but primarily expose attributes specific to their type (e.g. entries provide access to their key, type and fields)."
   ],
   "metadata": {
    "collapsed": false
   }
  },
  {
   "cell_type": "code",
   "execution_count": 5,
   "outputs": [
    {
     "name": "stdout",
     "output_type": "stream",
     "text": [
      "The Comment is of type <class 'bibtexparser.model.ExplicitComment'>, exposing amongst others the following attributes:\n",
      "    - `block.comment` to get the parsed comment: 'This is my example comment.' \n",
      "\n",
      "The Entry is of type <class 'bibtexparser.model.Entry'>, exposing amongst others the following attributes:\"\n",
      "    - `entry.key` to get the parsed key: 'Cesar2013' \"\n",
      "    - `entry.type` to get the parsed type: 'article' \"\n",
      "    - `entry.fields` and `entry.fields_dict` to get the parsed fields (e.g. for author, journal, ...), as a list of `Field` objects:' \"\n",
      "        - e.g. `entry.fields_dict['author'].value` to get 'Jean César' \"\n",
      "        - e.g. `entry.fields[2].key` to get the key of the 3rd field 'year'\n",
      " \n"
     ]
    }
   ],
   "source": [
    "first_comment = library.comments[0]\n",
    "print(f\"The Comment is of type {type(first_comment)}, exposing amongst others the following attributes:\")\n",
    "print(f\"    - `block.comment` to get the parsed comment: '{first_comment.comment}' \")\n",
    "\n",
    "first_entry = library.entries[0]\n",
    "print(f\"\"\"\n",
    "The Entry is of type {type(first_entry)}, exposing amongst others the following attributes:\"\n",
    "    - `entry.key` to get the parsed key: '{first_entry.key}' \"\n",
    "    - `entry.type` to get the parsed type: '{first_entry.entry_type}' \"\n",
    "    - `entry.fields` and `entry.fields_dict` to get the parsed fields (e.g. for author, journal, ...), as a list of `Field` objects:' \"\n",
    "        - e.g. `entry.fields_dict['author'].value` to get '{first_entry.fields_dict['author'].value}' \"\n",
    "        - e.g. `entry.fields[2].key` to get the key of the 3rd field '{first_entry.fields[2].key}'\n",
    " \"\"\")"
   ],
   "metadata": {
    "collapsed": false,
    "ExecuteTime": {
     "end_time": "2023-05-09T19:53:10.389524626Z",
     "start_time": "2023-05-09T19:53:10.258872132Z"
    }
   }
  },
  {
   "cell_type": "markdown",
   "source": [
    "python-bibtexparser is quite generous with errors in the bibtex file, and will try to parse as much as possible.\n",
    "However, this may lead to some unparsed blocks being ignored silently and we thus recommend you check if\n",
    "the parsing of any blocks:"
   ],
   "metadata": {
    "collapsed": false
   }
  },
  {
   "cell_type": "code",
   "execution_count": 6,
   "outputs": [
    {
     "name": "stdout",
     "output_type": "stream",
     "text": [
      "All blocks parsed successfully\n"
     ]
    }
   ],
   "source": [
    "if len(library.failed_blocks) > 0:\n",
    "    print(\"Some blocks failed to parse. Check the entries of `library.failed_blocks` for more details\")\n",
    "else:\n",
    "    print(\"All blocks parsed successfully\")"
   ],
   "metadata": {
    "collapsed": false,
    "ExecuteTime": {
     "end_time": "2023-05-09T19:53:10.390869180Z",
     "start_time": "2023-05-09T19:53:10.303413951Z"
    }
   }
  },
  {
   "cell_type": "markdown",
   "source": [
    "Write the library back to a string"
   ],
   "metadata": {
    "collapsed": false
   }
  },
  {
   "cell_type": "code",
   "execution_count": 7,
   "outputs": [
    {
     "name": "stdout",
     "output_type": "stream",
     "text": [
      "@comment{This is my example comment.}\n",
      "\n",
      "\n",
      "@article{Cesar2013,\n",
      "\tauthor = {Jean César},\n",
      "\ttitle = {An amazing title},\n",
      "\tyear = {2013},\n",
      "\tvolume = {12},\n",
      "\tpages = {12--23},\n",
      "\tjournal = {Nice Journal}\n",
      "}\n",
      "\n"
     ]
    }
   ],
   "source": [
    "library = bibtexparser.parse_string(bibtex_str)\n",
    "new_bibtex_str = bibtexparser.write_string(library)\n",
    "print(new_bibtex_str)"
   ],
   "metadata": {
    "collapsed": false,
    "ExecuteTime": {
     "end_time": "2023-05-09T19:53:10.392790930Z",
     "start_time": "2023-05-09T19:53:10.303836022Z"
    }
   }
  }
 ],
 "metadata": {
  "kernelspec": {
   "display_name": "Python 3",
   "language": "python",
   "name": "python3"
  },
  "language_info": {
   "codemirror_mode": {
    "name": "ipython",
    "version": 2
   },
   "file_extension": ".py",
   "mimetype": "text/x-python",
   "name": "python",
   "nbconvert_exporter": "python",
   "pygments_lexer": "ipython2",
   "version": "2.7.6"
  }
 },
 "nbformat": 4,
 "nbformat_minor": 0
}
