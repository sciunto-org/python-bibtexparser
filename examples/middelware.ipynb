{
 "cells": [
  {
   "cell_type": "code",
   "execution_count": 1,
   "metadata": {
    "collapsed": true,
    "ExecuteTime": {
     "end_time": "2023-05-25T16:28:03.016810268Z",
     "start_time": "2023-05-25T16:28:02.984530644Z"
    }
   },
   "outputs": [],
   "source": [
    "import bibtexparser"
   ]
  },
  {
   "cell_type": "code",
   "execution_count": 2,
   "outputs": [
    {
     "name": "stdout",
     "output_type": "stream",
     "text": [
      "Entry (line: 4, type: `article`, key: `Cesar2013`):\n",
      "\t`author` = `Jean César`\n",
      "\t`title` = `An amazing title`\n",
      "\t`year` = `2013`\n",
      "\t`month` = `jan`\n",
      "\t`volume` = `12`\n",
      "\t`pages` = `12--23`\n",
      "\t`journal` = `Nice Journal`\n"
     ]
    }
   ],
   "source": [
    "library = bibtexparser.parse_file('bibtex.bib')\n",
    "print(library.entries[0])"
   ],
   "metadata": {
    "collapsed": false,
    "ExecuteTime": {
     "end_time": "2023-05-25T16:28:03.022610611Z",
     "start_time": "2023-05-25T16:28:02.991422783Z"
    }
   }
  },
  {
   "cell_type": "code",
   "execution_count": 3,
   "outputs": [
    {
     "name": "stdout",
     "output_type": "stream",
     "text": [
      "Entry (line: 4, type: `article`, key: `Cesar2013`):\n",
      "\t`author` = `{Jean César}`\n",
      "\t`title` = `{An amazing title}`\n",
      "\t`year` = `2013`\n",
      "\t`month` = `jan`\n",
      "\t`volume` = `{12}`\n",
      "\t`pages` = `{12--23}`\n",
      "\t`journal` = `\"Nice Journal\"`\n"
     ]
    }
   ],
   "source": [
    "library_no_pstack = bibtexparser.parse_file('bibtex.bib', parse_stack=[])\n",
    "print(library_no_pstack.entries[0])"
   ],
   "metadata": {
    "collapsed": false,
    "ExecuteTime": {
     "end_time": "2023-05-25T16:28:03.025168729Z",
     "start_time": "2023-05-25T16:28:03.000905734Z"
    }
   }
  },
  {
   "cell_type": "code",
   "execution_count": 4,
   "outputs": [
    {
     "name": "stdout",
     "output_type": "stream",
     "text": [
      "Entry (line: 4, type: `article`, key: `Cesar2013`):\n",
      "\t`author` = `[NameParts(first=['Jean'], von=[], last=['César'], jr=[])]`\n",
      "\t`title` = `An amazing title`\n",
      "\t`year` = `2013`\n",
      "\t`month` = `1`\n",
      "\t`volume` = `12`\n",
      "\t`pages` = `12--23`\n",
      "\t`journal` = `Nice Journal`\n"
     ]
    }
   ],
   "source": [
    "import bibtexparser.middlewares as m\n",
    "\n",
    "# We want to add three new middleware layers to our parse stack:\n",
    "layers = [\n",
    "    m.MonthIntMiddleware(), # Months should be represented as int (0-12)\n",
    "    m.SeparateCoAuthors(), # Co-authors should be separated\n",
    "    m.SplitNameParts() # Names should be split into first, von, last, jr parts\n",
    "]\n",
    "library_append_pstack = bibtexparser.parse_file('bibtex.bib', append_middleware=layers)\n",
    "\n",
    "print(library_append_pstack.entries[0])\n"
   ],
   "metadata": {
    "collapsed": false,
    "ExecuteTime": {
     "end_time": "2023-05-25T16:28:03.083771580Z",
     "start_time": "2023-05-25T16:28:03.019163654Z"
    }
   }
  },
  {
   "cell_type": "code",
   "execution_count": 5,
   "outputs": [
    {
     "name": "stdout",
     "output_type": "stream",
     "text": [
      "@comment{This is my example comment.}\n",
      "\n",
      "\n",
      "@article{Cesar2013,\n",
      "    author = {Jean César},\n",
      "    title = {An amazing title},\n",
      "    year = {2013},\n",
      "    month = {jan},\n",
      "    volume = {12},\n",
      "    pages = {12--23},\n",
      "    journal = {Nice Journal}\n",
      "}\n",
      "\n"
     ]
    }
   ],
   "source": [
    "bibtex_format = bibtexparser.BibtexFormat()\n",
    "bibtex_format.indent = '    '\n",
    "bibtex_format.block_separator = '\\n\\n'\n",
    "bib_str = bibtexparser.write_string(library, bibtex_format=bibtex_format)\n",
    "print(bib_str)"
   ],
   "metadata": {
    "collapsed": false,
    "ExecuteTime": {
     "end_time": "2023-05-25T16:28:03.214627657Z",
     "start_time": "2023-05-25T16:28:03.042674412Z"
    }
   }
  },
  {
   "cell_type": "code",
   "execution_count": 6,
   "outputs": [
    {
     "data": {
      "text/plain": "'{Jean César}'"
     },
     "execution_count": 6,
     "metadata": {},
     "output_type": "execute_result"
    }
   ],
   "source": [
    "library.entries[0]['author']"
   ],
   "metadata": {
    "collapsed": false,
    "ExecuteTime": {
     "end_time": "2023-05-25T16:28:03.346359762Z",
     "start_time": "2023-05-25T16:28:03.102508329Z"
    }
   }
  }
 ],
 "metadata": {
  "kernelspec": {
   "display_name": "Python 3",
   "language": "python",
   "name": "python3"
  },
  "language_info": {
   "codemirror_mode": {
    "name": "ipython",
    "version": 2
   },
   "file_extension": ".py",
   "mimetype": "text/x-python",
   "name": "python",
   "nbconvert_exporter": "python",
   "pygments_lexer": "ipython2",
   "version": "2.7.6"
  }
 },
 "nbformat": 4,
 "nbformat_minor": 0
}
