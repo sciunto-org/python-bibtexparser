{
 "cells": [
  {
   "cell_type": "code",
   "execution_count": 1,
   "metadata": {
    "collapsed": true,
    "ExecuteTime": {
     "end_time": "2023-05-10T20:31:33.397250075Z",
     "start_time": "2023-05-10T20:31:33.378881401Z"
    }
   },
   "outputs": [],
   "source": [
    "import bibtexparser"
   ]
  },
  {
   "cell_type": "code",
   "execution_count": 7,
   "outputs": [
    {
     "name": "stdout",
     "output_type": "stream",
     "text": [
      "Entry (line: 4, type: `article`, key: `Cesar2013`):\n",
      "\t`author` = `Jean César`\n",
      "\t`title` = `An amazing title`\n",
      "\t`year` = `2013`\n",
      "\t`month` = `jan`\n",
      "\t`volume` = `12`\n",
      "\t`pages` = `12--23`\n",
      "\t`journal` = `Nice Journal`\n"
     ]
    }
   ],
   "source": [
    "library = bibtexparser.parse_file('bibtex.bib')\n",
    "print(library.entries[0])"
   ],
   "metadata": {
    "collapsed": false,
    "ExecuteTime": {
     "end_time": "2023-05-10T20:33:26.866427934Z",
     "start_time": "2023-05-10T20:33:26.819515060Z"
    }
   }
  },
  {
   "cell_type": "code",
   "execution_count": 8,
   "outputs": [
    {
     "name": "stdout",
     "output_type": "stream",
     "text": [
      "Entry (line: 4, type: `article`, key: `Cesar2013`):\n",
      "\t`author` = `{Jean César}`\n",
      "\t`title` = `{An amazing title}`\n",
      "\t`year` = `2013`\n",
      "\t`month` = `jan`\n",
      "\t`volume` = `{12}`\n",
      "\t`pages` = `{12--23}`\n",
      "\t`journal` = `\"Nice Journal\"`\n"
     ]
    }
   ],
   "source": [
    "library_no_pstack = bibtexparser.parse_file('bibtex.bib', parse_stack=[])\n",
    "print(library_no_pstack.entries[0])"
   ],
   "metadata": {
    "collapsed": false,
    "ExecuteTime": {
     "end_time": "2023-05-10T20:33:28.808448155Z",
     "start_time": "2023-05-10T20:33:28.790459090Z"
    }
   }
  },
  {
   "cell_type": "code",
   "execution_count": 15,
   "outputs": [
    {
     "name": "stdout",
     "output_type": "stream",
     "text": [
      "Entry (line: 4, type: `article`, key: `Cesar2013`):\n",
      "\t`author` = `[NameParts(first=['Jean'], von=[], last=['César'], jr=[])]`\n",
      "\t`title` = `An amazing title`\n",
      "\t`year` = `2013`\n",
      "\t`month` = `1`\n",
      "\t`volume` = `12`\n",
      "\t`pages` = `12--23`\n",
      "\t`journal` = `Nice Journal`\n"
     ]
    }
   ],
   "source": [
    "import bibtexparser.middlewares as m\n",
    "\n",
    "# We want to add three new middleware layers to our parse stack:\n",
    "layers = [\n",
    "    m.MonthIntMiddleware(True), # Months should be represented as int (0-12)\n",
    "    m.SeparateCoAuthors(True), # Co-authors should be separated\n",
    "    m.SplitNameParts(True) # Names should be split into first, von, last, jr parts\n",
    "]\n",
    "library_append_pstack = bibtexparser.parse_file('bibtex.bib', append_middleware=layers)\n",
    "\n",
    "print(library_append_pstack.entries[0])\n"
   ],
   "metadata": {
    "collapsed": false,
    "ExecuteTime": {
     "end_time": "2023-05-10T20:38:10.751762611Z",
     "start_time": "2023-05-10T20:38:10.727095394Z"
    }
   }
  },
  {
   "cell_type": "code",
   "execution_count": null,
   "outputs": [],
   "source": [],
   "metadata": {
    "collapsed": false,
    "ExecuteTime": {
     "start_time": "2023-05-10T20:34:23.240653553Z"
    }
   }
  },
  {
   "cell_type": "code",
   "execution_count": null,
   "outputs": [],
   "source": [],
   "metadata": {
    "collapsed": false
   }
  }
 ],
 "metadata": {
  "kernelspec": {
   "display_name": "Python 3",
   "language": "python",
   "name": "python3"
  },
  "language_info": {
   "codemirror_mode": {
    "name": "ipython",
    "version": 2
   },
   "file_extension": ".py",
   "mimetype": "text/x-python",
   "name": "python",
   "nbconvert_exporter": "python",
   "pygments_lexer": "ipython2",
   "version": "2.7.6"
  }
 },
 "nbformat": 4,
 "nbformat_minor": 0
}
