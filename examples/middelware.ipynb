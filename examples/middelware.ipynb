{
 "cells": [
  {
   "cell_type": "code",
   "execution_count": 1,
   "metadata": {
    "collapsed": true,
    "ExecuteTime": {
     "end_time": "2023-05-17T03:49:51.398895400Z",
     "start_time": "2023-05-17T03:49:51.364999851Z"
    }
   },
   "outputs": [],
   "source": [
    "import bibtexparser"
   ]
  },
  {
   "cell_type": "code",
   "execution_count": 2,
   "outputs": [
    {
     "name": "stdout",
     "output_type": "stream",
     "text": [
      "Entry (line: 4, type: `article`, key: `Cesar2013`):\n",
      "\t`author` = `Jean César`\n",
      "\t`title` = `An amazing title`\n",
      "\t`year` = `2013`\n",
      "\t`month` = `jan`\n",
      "\t`volume` = `12`\n",
      "\t`pages` = `12--23`\n",
      "\t`journal` = `Nice Journal`\n"
     ]
    }
   ],
   "source": [
    "library = bibtexparser.parse_file('bibtex.bib')\n",
    "print(library.entries[0])"
   ],
   "metadata": {
    "collapsed": false,
    "ExecuteTime": {
     "end_time": "2023-05-17T03:49:51.455239273Z",
     "start_time": "2023-05-17T03:49:51.407234342Z"
    }
   }
  },
  {
   "cell_type": "code",
   "execution_count": 3,
   "outputs": [
    {
     "name": "stdout",
     "output_type": "stream",
     "text": [
      "Entry (line: 4, type: `article`, key: `Cesar2013`):\n",
      "\t`author` = `{Jean César}`\n",
      "\t`title` = `{An amazing title}`\n",
      "\t`year` = `2013`\n",
      "\t`month` = `jan`\n",
      "\t`volume` = `{12}`\n",
      "\t`pages` = `{12--23}`\n",
      "\t`journal` = `\"Nice Journal\"`\n"
     ]
    }
   ],
   "source": [
    "library_no_pstack = bibtexparser.parse_file('bibtex.bib', parse_stack=[])\n",
    "print(library_no_pstack.entries[0])"
   ],
   "metadata": {
    "collapsed": false,
    "ExecuteTime": {
     "end_time": "2023-05-17T03:49:51.457959238Z",
     "start_time": "2023-05-17T03:49:51.423626694Z"
    }
   }
  },
  {
   "cell_type": "code",
   "execution_count": 4,
   "outputs": [
    {
     "name": "stdout",
     "output_type": "stream",
     "text": [
      "Entry (line: 4, type: `article`, key: `Cesar2013`):\n",
      "\t`author` = `[NameParts(first=['Jean'], von=[], last=['César'], jr=[])]`\n",
      "\t`title` = `An amazing title`\n",
      "\t`year` = `2013`\n",
      "\t`month` = `1`\n",
      "\t`volume` = `12`\n",
      "\t`pages` = `12--23`\n",
      "\t`journal` = `Nice Journal`\n"
     ]
    }
   ],
   "source": [
    "import bibtexparser.middlewares as m\n",
    "\n",
    "# We want to add three new middleware layers to our parse stack:\n",
    "layers = [\n",
    "    m.MonthIntMiddleware(True), # Months should be represented as int (0-12)\n",
    "    m.SeparateCoAuthors(True), # Co-authors should be separated\n",
    "    m.SplitNameParts(True) # Names should be split into first, von, last, jr parts\n",
    "]\n",
    "library_append_pstack = bibtexparser.parse_file('bibtex.bib', append_middleware=layers)\n",
    "\n",
    "print(library_append_pstack.entries[0])\n"
   ],
   "metadata": {
    "collapsed": false,
    "ExecuteTime": {
     "end_time": "2023-05-17T03:49:51.470273799Z",
     "start_time": "2023-05-17T03:49:51.457292911Z"
    }
   }
  },
  {
   "cell_type": "code",
   "execution_count": 6,
   "outputs": [
    {
     "name": "stdout",
     "output_type": "stream",
     "text": [
      "@comment{This is my example comment.}\n",
      "\n",
      "\n",
      "@article{Cesar2013,\n",
      "    author = {{Jean César}},\n",
      "    title = {{An amazing title}},\n",
      "    year = {{2013}},\n",
      "    month = {{jan}},\n",
      "    volume = {{12}},\n",
      "    pages = {{12--23}},\n",
      "    journal = {{Nice Journal}}\n",
      "}\n",
      "\n"
     ]
    }
   ],
   "source": [
    "bibtex_format = bibtexparser.BibtexFormat()\n",
    "bibtex_format.indent = '    '\n",
    "bibtex_format.block_separator = '\\n\\n'\n",
    "bib_str = bibtexparser.write_string(library, bibtex_format=bibtex_format)\n",
    "print(bib_str)"
   ],
   "metadata": {
    "collapsed": false,
    "ExecuteTime": {
     "end_time": "2023-05-17T03:50:51.607110835Z",
     "start_time": "2023-05-17T03:50:51.582247615Z"
    }
   }
  },
  {
   "cell_type": "code",
   "execution_count": 5,
   "outputs": [],
   "source": [],
   "metadata": {
    "collapsed": false,
    "ExecuteTime": {
     "end_time": "2023-05-17T03:49:51.531630416Z",
     "start_time": "2023-05-17T03:49:51.525694342Z"
    }
   }
  }
 ],
 "metadata": {
  "kernelspec": {
   "display_name": "Python 3",
   "language": "python",
   "name": "python3"
  },
  "language_info": {
   "codemirror_mode": {
    "name": "ipython",
    "version": 2
   },
   "file_extension": ".py",
   "mimetype": "text/x-python",
   "name": "python",
   "nbconvert_exporter": "python",
   "pygments_lexer": "ipython2",
   "version": "2.7.6"
  }
 },
 "nbformat": 4,
 "nbformat_minor": 0
}
