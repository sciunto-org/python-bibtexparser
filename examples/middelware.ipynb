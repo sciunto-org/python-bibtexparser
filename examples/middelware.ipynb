{
 "cells": [
  {
   "cell_type": "code",
   "execution_count": 1,
   "metadata": {
    "collapsed": true,
    "ExecuteTime": {
     "end_time": "2023-05-10T19:52:35.755571669Z",
     "start_time": "2023-05-10T19:52:35.754842279Z"
    }
   },
   "outputs": [],
   "source": [
    "import bibtexparser\n",
    "\n",
    "def pretty_print_first_entry(lib):\n",
    "    import json\n",
    "    json = json.dumps(lib.comments[0], indent=4)\n",
    "    print(json)\n"
   ]
  },
  {
   "cell_type": "code",
   "execution_count": 2,
   "outputs": [
    {
     "name": "stdout",
     "output_type": "stream",
     "text": [
      "ExplicitComment (line 0): `This is my example comment.`\n"
     ]
    }
   ],
   "source": [
    "library = bibtexparser.parse_file('bibtex.bib')\n",
    "print(library.comments[0].__str__())"
   ],
   "metadata": {
    "collapsed": false,
    "ExecuteTime": {
     "end_time": "2023-05-10T19:52:35.958870932Z",
     "start_time": "2023-05-10T19:52:35.919119875Z"
    }
   }
  },
  {
   "cell_type": "code",
   "execution_count": 3,
   "outputs": [
    {
     "data": {
      "text/plain": "<bibtexparser.library.Library at 0x7f4730383820>"
     },
     "execution_count": 3,
     "metadata": {},
     "output_type": "execute_result"
    }
   ],
   "source": [
    "bibtexparser.parse_file('bibtex.bib', parse_stack=[])"
   ],
   "metadata": {
    "collapsed": false,
    "ExecuteTime": {
     "end_time": "2023-05-10T19:50:35.994833342Z",
     "start_time": "2023-05-10T19:50:35.840978420Z"
    }
   }
  },
  {
   "cell_type": "code",
   "execution_count": 3,
   "outputs": [],
   "source": [],
   "metadata": {
    "collapsed": false,
    "ExecuteTime": {
     "end_time": "2023-05-10T19:50:35.995834496Z",
     "start_time": "2023-05-10T19:50:35.874531450Z"
    }
   }
  }
 ],
 "metadata": {
  "kernelspec": {
   "display_name": "Python 3",
   "language": "python",
   "name": "python3"
  },
  "language_info": {
   "codemirror_mode": {
    "name": "ipython",
    "version": 2
   },
   "file_extension": ".py",
   "mimetype": "text/x-python",
   "name": "python",
   "nbconvert_exporter": "python",
   "pygments_lexer": "ipython2",
   "version": "2.7.6"
  }
 },
 "nbformat": 4,
 "nbformat_minor": 0
}
